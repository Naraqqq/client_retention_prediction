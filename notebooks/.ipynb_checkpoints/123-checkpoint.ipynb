{
 "cells": [
  {
   "cell_type": "markdown",
   "id": "415e587c-aff8-4177-9dc0-fd0d499d51b9",
   "metadata": {},
   "source": [
    "<h1> Импорт библиотек </h1>"
   ]
  },
  {
   "cell_type": "code",
   "execution_count": 1,
   "id": "281733fe-aabd-47c7-9612-0e3e7b3aa4c0",
   "metadata": {},
   "outputs": [],
   "source": [
    "import pandas as pd\n",
    "import numpy as np\n",
    "import joblib\n",
    "import os\n",
    "\n",
    "from catboost import CatBoostClassifier\n",
    "from sklearn.ensemble import VotingClassifier\n",
    "from sklearn.model_selection import train_test_split, GridSearchCV\n",
    "from sklearn.metrics import roc_auc_score\n",
    "from sklearn.ensemble import VotingClassifier"
   ]
  },
  {
   "cell_type": "markdown",
   "id": "a72dcd8e-ceb3-4868-8b90-87c7a5cd0c93",
   "metadata": {},
   "source": [
    "<h1> Загрузка данных </h1>"
   ]
  },
  {
   "cell_type": "code",
   "execution_count": 3,
   "id": "94cc5ef7-6958-48d4-960e-87cb4df33f28",
   "metadata": {},
   "outputs": [],
   "source": [
    "data = pd.read_csv('../data/raw/train.csv')\n",
    "\n",
    "data_train, val_train = train_test_split(\n",
    "    data,\n",
    "    test_size = 0.2,\n",
    "    random_state = 42,\n",
    "    stratify = data['Exited']\n",
    ")\n",
    "\n",
    "data_train.to_csv('../processed', index = False)\n",
    "val_train.to_csv('../processed', index = False)"
   ]
  },
  {
   "cell_type": "markdown",
   "id": "65bc061b-0ed6-4151-83b4-f252c773df28",
   "metadata": {},
   "source": [
    "**Разбиваем данные, выделяем признаки**"
   ]
  },
  {
   "cell_type": "code",
   "execution_count": 4,
   "id": "c307461d-9386-462e-a348-c90b8e782a45",
   "metadata": {},
   "outputs": [],
   "source": [
    "# Тренировочкая выборка\n",
    "y_train = data_train['Exited']\n",
    "X_train = data_train.drop(columns=['id', 'CustomerId', 'Surname', 'Exited'])\n",
    "\n",
    "# Валидационная выборка для проверки метрики\n",
    "y_val = val_train['Exited']\n",
    "X_val = val_train.drop(columns=['id', 'CustomerId', 'Surname', 'Exited'])\n",
    "\n",
    "# Категориальные признаки (будут передаваться в catboost)\n",
    "cat_features = ['Geography', 'Gender']"
   ]
  },
  {
   "cell_type": "markdown",
   "id": "15c014d8-885a-4ea9-afd9-1c9933873185",
   "metadata": {},
   "source": [
    "<h1> Обучаем CatBoostClassifier </h1>"
   ]
  },
  {
   "cell_type": "code",
   "execution_count": 7,
   "id": "feb50070-d17c-4843-9962-eb8f0596f5f6",
   "metadata": {},
   "outputs": [],
   "source": [
    "# Определяем доступность GPU\n",
    "import subprocess\n",
    "\n",
    "def detect_catboost_task_type():\n",
    "    try:\n",
    "        output = subprocess.check_output(['nvidia-smi'], stderr=subprocess.DEVNULL)\n",
    "        return 'GPU'\n",
    "    except:\n",
    "        return 'CPU'\n",
    "\n",
    "task_type = detect_catboost_task_type()"
   ]
  },
  {
   "cell_type": "code",
   "execution_count": 11,
   "id": "33497bf4-2563-4947-ba25-f747057217e9",
   "metadata": {},
   "outputs": [],
   "source": [
    "cat_model = CatBoostClassifier(\n",
    "    verbose=0,\n",
    "    cat_features=cat_features,\n",
    "    task_type=task_type\n",
    ")\n",
    "\n",
    "# Определяем сетку гиперпараметров для перебора\n",
    "param_grid_catboost = {\n",
    "    'learning_rate': [0.05, 0.2, 0.6],\n",
    "    'depth': [4, 6, 8],\n",
    "    'n_estimators': [200, 1000],\n",
    "    'l2_leaf_reg' : [2, 5, 10] \n",
    "}"
   ]
  },
  {
   "cell_type": "markdown",
   "id": "cebc71ec-c8b6-4c5c-9877-ae30b3296ba7",
   "metadata": {},
   "source": [
    "**Запуск модели**"
   ]
  },
  {
   "cell_type": "code",
   "execution_count": null,
   "id": "562a3e4d-ca84-4ee1-874c-5bb5cd78aa46",
   "metadata": {},
   "outputs": [],
   "source": [
    "grid_search_catboost = GridSearchCV(\n",
    "    estimator=cat_model,\n",
    "    param_grid=param_grid_catboost,\n",
    "    verbose=1,\n",
    "    scoring='roc_auc',\n",
    "    cv=15\n",
    ")\n",
    "\n",
    "grid_search_catboost.fit(X_train, y_train)"
   ]
  },
  {
   "cell_type": "markdown",
   "id": "f0b30876-67ea-47d8-a602-539f25fe9e0f",
   "metadata": {},
   "source": [
    "**Поиск лучших параметров и выбор лучшей модели**"
   ]
  },
  {
   "cell_type": "code",
   "execution_count": null,
   "id": "fc0e8add-a783-4c1f-842b-f2b0599485d2",
   "metadata": {},
   "outputs": [],
   "source": [
    "print(\"Лучшие параметры: \", grid_search_catboost.best_params_)\n",
    "print(\"Лучшая модель: \", grid_search_catboost.best_estimator_)"
   ]
  },
  {
   "cell_type": "markdown",
   "id": "d2a83b4a-1eba-4972-8bc8-fc9d093401dd",
   "metadata": {},
   "source": [
    "**На валидации измеряем roc_auc**"
   ]
  },
  {
   "cell_type": "code",
   "execution_count": null,
   "id": "d6485c45-4730-4942-b5f8-cdb51b360db7",
   "metadata": {},
   "outputs": [],
   "source": [
    "best_catboost = grid_search_catboost.best_estimator\n",
    "best_catboost_pred = best_catboost.predict_proba(X_val)[:, 1]\n",
    "roc_auc_catb = roc_auc_score(y_val, best_catboost_pred)\n",
    "\n",
    "print(f'ROC_AUC на отложенной выборке для CatBoostClassifier: {roc_auc:.4f}')"
   ]
  },
  {
   "cell_type": "code",
   "execution_count": null,
   "id": "db88219d-e3a3-428a-98a0-ce8f48792dc9",
   "metadata": {},
   "outputs": [],
   "source": [
    "# Сохраняем нашу лучшую модель\n",
    "joblib.dump(best_catboost, '../models/best_catboost.pkl')"
   ]
  },
  {
   "cell_type": "markdown",
   "id": "39017c50-9a0e-415d-b9c3-7c2ed9c4237a",
   "metadata": {},
   "source": [
    "<h1> Обучаем XGBClassifier </h1>"
   ]
  },
  {
   "cell_type": "code",
   "execution_count": 15,
   "id": "3a498bdc-d336-4c72-8ae7-038e8034d3f5",
   "metadata": {
    "scrolled": true
   },
   "outputs": [],
   "source": [
    "from xgboost import XGBClassifier\n",
    "\n",
    "X_train_xgb = pd.get_dummies(X_train.copy())\n",
    "y_train_xgb = y_train.copy()\n",
    "\n",
    "X_val_xgb = pd.get_dummies(X_val.copy())\n",
    "y_val_xgb = y_val.copy()"
   ]
  },
  {
   "cell_type": "code",
   "execution_count": 14,
   "id": "2a03ff1a-01e7-4445-a997-fafb383ccbfa",
   "metadata": {},
   "outputs": [],
   "source": [
    "params = {\n",
    "    \"learning_rate\" : [0.01, 0.1, 0.2, 0.3],\n",
    "    \"n_estimators\" : [30, 50, 70, 100, 120, 200],\n",
    "    \"max_depth\" : [5, 7, 9, 11, 15, 20, 25, 50]\n",
    "}\n",
    "\n",
    "xgb_model = XGBClassifier()"
   ]
  },
  {
   "cell_type": "markdown",
   "id": "2c40ce7c-c83e-4be7-a812-94d8180e83d0",
   "metadata": {},
   "source": [
    "**Запускаем модель**"
   ]
  },
  {
   "cell_type": "code",
   "execution_count": null,
   "id": "2b48bc64-fdeb-47f4-be8b-c2ffd1db6bdf",
   "metadata": {},
   "outputs": [],
   "source": [
    "grid_search_xgb = GridSearchCV(\n",
    "    estimator=xgb_model,\n",
    "    param_grid=params,\n",
    "    scoring='roc_auc',\n",
    "    cv=15,\n",
    "    verbose=1\n",
    ")\n",
    "\n",
    "grid_search_xgb.fit(X_trrain_xgb, y_train_xgb)"
   ]
  },
  {
   "cell_type": "code",
   "execution_count": null,
   "id": "ad8490b5-0411-4ec8-909f-9f7a79ac97e6",
   "metadata": {},
   "outputs": [],
   "source": [
    "best_xgb = grid_search_xgb.best_estimator_\n",
    "\n",
    "best_xgb_pred = best_xgb.predict_proba(X_val_xgb)[:, 1]\n",
    "roc_auc_xgb = roc_auc_score(y_val_xgb, best_xgb_pred)\n",
    "\n",
    "print(f'ROC_AUC на отложенной выборке для XGBClassifier: {roc_auc:.4f}')"
   ]
  },
  {
   "cell_type": "code",
   "execution_count": null,
   "id": "1206813b-fd49-42cb-8c98-11434f1e14d1",
   "metadata": {},
   "outputs": [],
   "source": [
    "# Сохраняем нашу лучшую модель\n",
    "joblib.dump(best_catboost, '../models/best_xgb.pkl')"
   ]
  },
  {
   "cell_type": "markdown",
   "id": "641e8fc2-02ce-435b-9949-8de2a1aac4e0",
   "metadata": {},
   "source": [
    "<h1>Обучаем ансамбль</h1>"
   ]
  },
  {
   "cell_type": "markdown",
   "id": "0576281c-fa05-4bd9-87f6-5d490b61054a",
   "metadata": {},
   "source": [
    "- **Cоздаем ансамбль catboost'ов**\n",
    "- **Усредняем предсказания**"
   ]
  },
  {
   "cell_type": "markdown",
   "id": "bb995930-857f-4b21-a57b-3cff18482054",
   "metadata": {},
   "source": [
    "**Создаем модели**"
   ]
  },
  {
   "cell_type": "code",
   "execution_count": 18,
   "id": "58d04193-fe35-45bc-877a-bc827e1e7701",
   "metadata": {},
   "outputs": [],
   "source": [
    "model1 = CatBoostClassifier(learning_rate=0.1, depth=6, iterations=100, random_state=42, verbose=0, cat_features=cat_features, task_type=task_type)\n",
    "model2 = CatBoostClassifier(learning_rate=0.2, depth=6, iterations=100, random_state=42, verbose=0, cat_features=cat_features, task_type=task_type)\n",
    "model3 = CatBoostClassifier(learning_rate=0.1, depth=3, iterations=100, random_state=42, verbose=0, cat_features=cat_features, task_type=task_type)\n",
    "model4 = CatBoostClassifier(learning_rate=0.3, depth=5, iterations=100, random_state=42, verbose=0, cat_features=cat_features, task_type=task_type)\n",
    "model5 = CatBoostClassifier(learning_rate=0.4, depth=4, iterations=100, random_state=42, verbose=0, cat_features=cat_features, task_type=task_type)\n",
    "\n",
    "\n",
    "model6 = CatBoostClassifier(learning_rate=0.1, depth=6, iterations= 100, random_state=42, verbose=0, cat_features=cat_features, task_type=task_type)\n",
    "model7 = CatBoostClassifier(learning_rate=0.1, depth=4, iterations=100, random_state=42, verbose=0, cat_features=cat_features, task_type=task_type)\n",
    "model8 = CatBoostClassifier(learning_rate=0.15, depth=7, iterations= 100, random_state=42, verbose=0,   cat_features=cat_features, task_type=task_type)\n",
    "model9 = CatBoostClassifier(learning_rate=0.25, depth=3, iterations=100, random_state=42, verbose=0, cat_features=cat_features, task_type=task_type)\n",
    "model10 = CatBoostClassifier(learning_rate=0.35, depth=5, iterations=100, random_state=42, verbose=0, cat_features=cat_features, task_type=task_type)"
   ]
  },
  {
   "cell_type": "markdown",
   "id": "e6c102f8-b223-476d-92b2-2735bd1977aa",
   "metadata": {},
   "source": [
    "**Строим ансамбль и запускаем**"
   ]
  },
  {
   "cell_type": "code",
   "execution_count": null,
   "id": "c8eea3ab-d8f6-4bf4-b633-0ec15e75d78a",
   "metadata": {},
   "outputs": [],
   "source": [
    "ensemble = VotingClassifier(\n",
    "    estimators=[('cat1', model1), ('cat2', model2), ('cat3', model3), ('cat4', model4), ('cat5', model5),\n",
    "               ('cat6', model6), ('cat7', model7), ('cat8', model8), ('cat9', model9), ('cat10', model10)],\n",
    "    voting='soft',  # 'soft' для усреднения вероятностей, 'hard' для большинства голосов\n",
    ")\n",
    "\n",
    "ensemble.fit(X_train, y_train)"
   ]
  },
  {
   "cell_type": "markdown",
   "id": "1b862ea8-ef35-4386-9036-d45750d72ac6",
   "metadata": {},
   "source": [
    "**Измеряем roc_auc ансамбля на валидации**"
   ]
  },
  {
   "cell_type": "code",
   "execution_count": null,
   "id": "cb5a8f3e-cd33-43ba-be3c-cfff49a6fa04",
   "metadata": {},
   "outputs": [],
   "source": [
    "ensemble_pred = ensemble.predict_proba(X_val)[:, 1]\n",
    "roc_auc_ensemble = roc_auc_score(y_val, ensemble_pred)\n",
    "\n",
    "print(f'ROC_AUC на отложенной выборке для Ensemble: {roc_auc:.4f}')"
   ]
  },
  {
   "cell_type": "code",
   "execution_count": null,
   "id": "5dc3a923-11db-418b-b95f-2ac7965ad34e",
   "metadata": {},
   "outputs": [],
   "source": [
    "joblib.dump(ensemble_pred, '../models/best_ensemble.pkl')"
   ]
  },
  {
   "cell_type": "markdown",
   "id": "84ee42bf-2c68-42cb-a7b8-8496167d2204",
   "metadata": {},
   "source": [
    "<h1>Находим лучшую</h1>"
   ]
  },
  {
   "cell_type": "code",
   "execution_count": null,
   "id": "b82fc45b-3066-4722-a0c4-476289a0bba6",
   "metadata": {},
   "outputs": [],
   "source": [
    "best_model = max([\n",
    "    (\"CatBoost\", roc_auc_catb),\n",
    "    (\"XGBClassifier\", roc_auc_xgb),\n",
    "    (\"Ensemble\", roc_auc_ensemble)\n",
    "], key=labmda x: x[1])\n",
    "\n",
    "print(f\"Best model: {best_model[0]} with ROC-AUC: {best_model[1]:.4f}\")"
   ]
  }
 ],
 "metadata": {
  "kernelspec": {
   "display_name": "Python 3 (ipykernel)",
   "language": "python",
   "name": "python3"
  },
  "language_info": {
   "codemirror_mode": {
    "name": "ipython",
    "version": 3
   },
   "file_extension": ".py",
   "mimetype": "text/x-python",
   "name": "python",
   "nbconvert_exporter": "python",
   "pygments_lexer": "ipython3",
   "version": "3.10.12"
  }
 },
 "nbformat": 4,
 "nbformat_minor": 5
}
