{
 "cells": [
  {
   "cell_type": "markdown",
   "id": "415e587c-aff8-4177-9dc0-fd0d499d51b9",
   "metadata": {},
   "source": [
    "<h1> Импорт библиотек </h1>"
   ]
  },
  {
   "cell_type": "code",
   "execution_count": 1,
   "id": "281733fe-aabd-47c7-9612-0e3e7b3aa4c0",
   "metadata": {},
   "outputs": [],
   "source": [
    "import pandas as pd\n",
    "import numpy as np\n",
    "import joblib\n",
    "import os\n",
    "\n",
    "from catboost import CatBoostClassifier\n",
    "from sklearn.ensemble import VotingClassifier\n",
    "from sklearn.model_selection import train_test_split, GridSearchCV\n",
    "from sklearn.metrics import roc_auc_score\n",
    "from sklearn.ensemble import VotingClassifier"
   ]
  },
  {
   "cell_type": "markdown",
   "id": "a72dcd8e-ceb3-4868-8b90-87c7a5cd0c93",
   "metadata": {},
   "source": [
    "<h1> Загрузка данных </h1>"
   ]
  },
  {
   "cell_type": "code",
   "execution_count": 20,
   "id": "94cc5ef7-6958-48d4-960e-87cb4df33f28",
   "metadata": {},
   "outputs": [],
   "source": [
    "data = pd.read_csv('../data/raw/train.csv')\n",
    "\n",
    "data_train, val_train = train_test_split(\n",
    "    data,\n",
    "    test_size = 0.2,\n",
    "    random_state = 42,\n",
    "    stratify = data['Exited']\n",
    ")\n",
    "\n",
    "data_train.to_csv('../data/processed/data_train.csv', index = False)\n",
    "val_train.to_csv('../data/processed/val_train.csv', index = False)"
   ]
  },
  {
   "cell_type": "markdown",
   "id": "65bc061b-0ed6-4151-83b4-f252c773df28",
   "metadata": {},
   "source": [
    "**Разбиваем данные, выделяем признаки**"
   ]
  },
  {
   "cell_type": "code",
   "execution_count": 4,
   "id": "c307461d-9386-462e-a348-c90b8e782a45",
   "metadata": {},
   "outputs": [],
   "source": [
    "# Тренировочкая выборка\n",
    "y_train = data_train['Exited']\n",
    "X_train = data_train.drop(columns=['id', 'CustomerId', 'Surname', 'Exited'])\n",
    "\n",
    "# Валидационная выборка для проверки метрики\n",
    "y_val = val_train['Exited']\n",
    "X_val = val_train.drop(columns=['id', 'CustomerId', 'Surname', 'Exited'])\n",
    "\n",
    "# Категориальные признаки (будут передаваться в catboost)\n",
    "cat_features = ['Geography', 'Gender']"
   ]
  },
  {
   "cell_type": "markdown",
   "id": "15c014d8-885a-4ea9-afd9-1c9933873185",
   "metadata": {},
   "source": [
    "<h1> Обучаем CatBoostClassifier </h1>"
   ]
  },
  {
   "cell_type": "code",
   "execution_count": 7,
   "id": "feb50070-d17c-4843-9962-eb8f0596f5f6",
   "metadata": {},
   "outputs": [],
   "source": [
    "# Определяем доступность GPU\n",
    "import subprocess\n",
    "\n",
    "def detect_catboost_task_type():\n",
    "    try:\n",
    "        output = subprocess.check_output(['nvidia-smi'], stderr=subprocess.DEVNULL)\n",
    "        return 'GPU'\n",
    "    except:\n",
    "        return 'CPU'\n",
    "\n",
    "task_type = detect_catboost_task_type()"
   ]
  },
  {
   "cell_type": "code",
   "execution_count": 11,
   "id": "33497bf4-2563-4947-ba25-f747057217e9",
   "metadata": {},
   "outputs": [],
   "source": [
    "cat_model = CatBoostClassifier(\n",
    "    verbose=0,\n",
    "    cat_features=cat_features,\n",
    "    task_type=task_type\n",
    ")\n",
    "\n",
    "# Определяем сетку гиперпараметров для перебора\n",
    "param_grid_catboost = {\n",
    "    'learning_rate': [0.05, 0.2, 0.6],\n",
    "    'depth': [4, 6, 8],\n",
    "    'n_estimators': [200, 1000],MODEL_PATH\n",
    "    'l2_leaf_reg' : [2, 5, 10] \n",
    "}"
   ]
  },
  {
   "cell_type": "markdown",
   "id": "cebc71ec-c8b6-4c5c-9877-ae30b3296ba7",
   "metadata": {},
   "source": [
    "**Запуск модели**"
   ]
  },
  {
   "cell_type": "code",
   "execution_count": null,
   "id": "562a3e4d-ca84-4ee1-874c-5bb5cd78aa46",
   "metadata": {},
   "outputs": [],
   "source": [
    "grid_search_catboost = GridSearchCV(\n",
    "    estimator=cat_model,\n",
    "    param_grid=param_grid_catboost,\n",
    "    verbose=1,\n",
    "    scoring='roc_auc',\n",
    "    cv=15\n",
    ")\n",
    "\n",
    "grid_search_catboost.fit(X_train, y_train)"
   ]
  },
  {
   "cell_type": "markdown",
   "id": "f0b30876-67ea-47d8-a602-539f25fe9e0f",
   "metadata": {},
   "source": [
    "**Поиск лучших параметров и выбор лучшей модели**"
   ]
  },
  {
   "cell_type": "code",
   "execution_count": null,
   "id": "fc0e8add-a783-4c1f-842b-f2b0599485d2",
   "metadata": {},
   "outputs": [],
   "source": [
    "print(\"Лучшие параметры: \", grid_search_catboost.best_params_)\n",
    "print(\"Лучшая модель: \", grid_search_catboost.best_estimator_)"
   ]
  },
  {
   "cell_type": "markdown",
   "id": "d2a83b4a-1eba-4972-8bc8-fc9d093401dd",
   "metadata": {},
   "source": [
    "**На валидации измеряем roc_auc**"
   ]
  },
  {
   "cell_type": "code",
   "execution_count": null,
   "id": "d6485c45-4730-4942-b5f8-cdb51b360db7",
   "metadata": {},
   "outputs": [],
   "source": [
    "best_catboost = grid_search_catboost.best_estimator\n",
    "best_catboost_pred = best_catboost.predict_proba(X_val)[:, 1]\n",
    "roc_auc_catb = roc_auc_score(y_val, best_catboost_pred)\n",
    "\n",
    "print(f'ROC_AUC на отложенной выборке для CatBoostClassifier: {roc_auc:.4f}')"
   ]
  },
  {
   "cell_type": "code",
   "execution_count": null,
   "id": "db88219d-e3a3-428a-98a0-ce8f48792dc9",
   "metadata": {},
   "outputs": [],
   "source": [
    "# Сохраняем нашу лучшую модель\n",
    "joblib.dump(best_catboost, '../models/best_catboost.pkl')"
   ]
  },
  {
   "cell_type": "markdown",
   "id": "39017c50-9a0e-415d-b9c3-7c2ed9c4237a",
   "metadata": {},
   "source": [
    "<h1> Обучаем XGBClassifier </h1>"
   ]
  },
  {
   "cell_type": "code",
   "execution_count": 21,
   "id": "3a498bdc-d336-4c72-8ae7-038e8034d3f5",
   "metadata": {
    "scrolled": true
   },
   "outputs": [],
   "source": [
    "from xgboost import XGBClassifier\n",
    "\n",
    "X_train_xgb = pd.get_dummies(X_train.copy())\n",
    "y_train_xgb = y_train.copy()\n",
    "\n",
    "X_val_xgb = pd.get_dummies(X_val.copy())\n",
    "y_val_xgb = y_val.copy()\n",
    "\n",
    "# Выравниваем колонки между train и validation\n",
    "X_train_xgb, X_val_xgb = X_train_xgb.align(X_val_xgb, join='left', axis=1, fill_value=0)"
   ]
  },
  {
   "cell_type": "code",
   "execution_count": 14,
   "id": "2a03ff1a-01e7-4445-a997-fafb383ccbfa",
   "metadata": {},
   "outputs": [],
   "source": [
    "params = {\n",
    "    \"learning_rate\" : [0.01, 0.1, 0.2, 0.3],\n",
    "    \"n_estimators\" : [30, 50, 70, 100, 120, 200],\n",
    "    \"max_depth\" : [5, 7, 9, 11, 15, 20, 25, 50]\n",
    "}\n",
    "\n",
    "xgb_model = XGBClassifier()"
   ]
  },
  {
   "cell_type": "markdown",
   "id": "2c40ce7c-c83e-4be7-a812-94d8180e83d0",
   "metadata": {},
   "source": [
    "**Запускаем модель**"
   ]
  },
  {
   "cell_type": "code",
   "execution_count": null,
   "id": "2b48bc64-fdeb-47f4-be8b-c2ffd1db6bdf",
   "metadata": {},
   "outputs": [],
   "source": [
    "grid_search_xgb = GridSearchCV(\n",
    "    estimator=xgb_model,\n",
    "    param_grid=params,\n",
    "    scoring='roc_auc',\n",
    "    cv=15,\n",
    "    verbose=1\n",
    ")\n",
    "\n",
    "grid_search_xgb.fit(X_train_xgb, y_train_xgb)"
   ]
  },
  {
   "cell_type": "code",
   "execution_count": null,
   "id": "ad8490b5-0411-4ec8-909f-9f7a79ac97e6",
   "metadata": {},
   "outputs": [],
   "source": [
    "best_xgb = grid_search_xgb.best_estimator_\n",
    "\n",
    "best_xgb_pred = best_xgb.predict_proba(X_val_xgb)[:, 1]\n",
    "roc_auc_xgb = roc_auc_score(y_val_xgb, best_xgb_pred)\n",
    "\n",
    "print(f'ROC_AUC на отложенной выборке для XGBClassifier: {roc_auc:.4f}')"
   ]
  },
  {
   "cell_type": "code",
   "execution_count": null,
   "id": "1206813b-fd49-42cb-8c98-11434f1e14d1",
   "metadata": {},
   "outputs": [],
   "source": [
    "# Сохраняем нашу лучшую модель\n",
    "joblib.dump(best_xgb, '../models/best_xgb.pkl')"
   ]
  },
  {
   "cell_type": "markdown",
   "id": "641e8fc2-02ce-435b-9949-8de2a1aac4e0",
   "metadata": {},
   "source": [
    "<h1>Обучаем ансамбль</h1>"
   ]
  },
  {
   "cell_type": "markdown",
   "id": "0576281c-fa05-4bd9-87f6-5d490b61054a",
   "metadata": {},
   "source": [
    "- **Cоздаем ансамбль catboost'ов**\n",
    "- **Усредняем предсказания**"
   ]
  },
  {
   "cell_type": "markdown",
   "id": "bb995930-857f-4b21-a57b-3cff18482054",
   "metadata": {},
   "source": [
    "**Создаем модели**"
   ]
  },
  {
   "cell_type": "code",
   "execution_count": 18,
   "id": "58d04193-fe35-45bc-877a-bc827e1e7701",
   "metadata": {},
   "outputs": [],
   "source": [
    "model1 = CatBoostClassifier(learning_rate=0.1, depth=6, iterations=100, random_state=42, verbose=0, cat_features=cat_features, task_type=task_type)\n",
    "model2 = CatBoostClassifier(learning_rate=0.2, depth=6, iterations=100, random_state=42, verbose=0, cat_features=cat_features, task_type=task_type)\n",
    "model3 = CatBoostClassifier(learning_rate=0.1, depth=3, iterations=100, random_state=42, verbose=0, cat_features=cat_features, task_type=task_type)\n",
    "model4 = CatBoostClassifier(learning_rate=0.3, depth=5, iterations=100, random_state=42, verbose=0, cat_features=cat_features, task_type=task_type)\n",
    "model5 = CatBoostClassifier(learning_rate=0.4, depth=4, iterations=100, random_state=42, verbose=0, cat_features=cat_features, task_type=task_type)\n",
    "\n",
    "\n",
    "model6 = CatBoostClassifier(learning_rate=0.1, depth=6, iterations= 100, random_state=42, verbose=0, cat_features=cat_features, task_type=task_type)\n",
    "model7 = CatBoostClassifier(learning_rate=0.1, depth=4, iterations=100, random_state=42, verbose=0, cat_features=cat_features, task_type=task_type)\n",
    "model8 = CatBoostClassifier(learning_rate=0.15, depth=7, iterations= 100, random_state=42, verbose=0,   cat_features=cat_features, task_type=task_type)\n",
    "model9 = CatBoostClassifier(learning_rate=0.25, depth=3, iterations=100, random_state=42, verbose=0, cat_features=cat_features, task_type=task_type)\n",
    "model10 = CatBoostClassifier(learning_rate=0.35, depth=5, iterations=100, random_state=42, verbose=0, cat_features=cat_features, task_type=task_type)"
   ]
  },
  {
   "cell_type": "markdown",
   "id": "e6c102f8-b223-476d-92b2-2735bd1977aa",
   "metadata": {},
   "source": [
    "**Строим ансамбль и запускаем**"
   ]
  },
  {
   "cell_type": "code",
   "execution_count": null,
   "id": "c8eea3ab-d8f6-4bf4-b633-0ec15e75d78a",
   "metadata": {},
   "outputs": [],
   "source": [
    "ensemble = VotingClassifier(\n",
    "    estimators=[('cat1', model1), ('cat2', model2), ('cat3', model3), ('cat4', model4), ('cat5', model5),\n",
    "               ('cat6', model6), ('cat7', model7), ('cat8', model8), ('cat9', model9), ('cat10', model10)],\n",
    "    voting='soft',  # 'soft' для усреднения вероятностей, 'hard' для большинства голосов\n",
    ")\n",
    "\n",
    "ensemble.fit(X_train, y_train)"
   ]
  },
  {
   "cell_type": "markdown",
   "id": "1b862ea8-ef35-4386-9036-d45750d72ac6",
   "metadata": {},
   "source": [
    "**Измеряем roc_auc ансамбля на валидации**"
   ]
  },
  {
   "cell_type": "code",
   "execution_count": null,
   "id": "cb5a8f3e-cd33-43ba-be3c-cfff49a6fa04",
   "metadata": {},
   "outputs": [],
   "source": [
    "ensemble_pred = ensemble.predict_proba(X_val)[:, 1]\n",
    "roc_auc_ensemble = roc_auc_score(y_val, ensemble_pred)\n",
    "\n",
    "print(f'ROC_AUC на отложенной выборке для Ensemble: {roc_auc:.4f}')"
   ]
  },
  {
   "cell_type": "code",
   "execution_count": null,
   "id": "5dc3a923-11db-418b-b95f-2ac7965ad34e",
   "metadata": {},
   "outputs": [],
   "source": [
    "joblib.dump(ensemble, '../models/best_ensemble.pkl')"
   ]
  },
  {
   "cell_type": "markdown",
   "id": "84ee42bf-2c68-42cb-a7b8-8496167d2204",
   "metadata": {},
   "source": [
    "<h1>Находим лучшую</h1>"
   ]
  },
  {
   "cell_type": "code",
   "execution_count": null,
   "id": "b82fc45b-3066-4722-a0c4-476289a0bba6",
   "metadata": {},
   "outputs": [],
   "source": [
    "best_model = max([\n",
    "    (\"CatBoost\", roc_auc_catb),\n",
    "    (\"XGBClassifier\", roc_auc_xgb),\n",
    "    (\"Ensemble\", roc_auc_ensemble)\n",
    "], key=lambda x: x[1])\n",
    "\n",
    "print(f\"Best model: {best_model[0]} with ROC-AUC: {best_model[1]:.4f}\")"
   ]
  },
  {
   "cell_type": "code",
   "execution_count": 31,
   "id": "e0837333-a732-4ecc-8843-0e896e7a029d",
   "metadata": {},
   "outputs": [
    {
     "name": "stdout",
     "output_type": "stream",
     "text": [
      "<class 'pandas.core.frame.DataFrame'>\n",
      "RangeIndex: 15000 entries, 0 to 14999\n",
      "Data columns (total 14 columns):\n",
      " #   Column           Non-Null Count  Dtype  \n",
      "---  ------           --------------  -----  \n",
      " 0   id               15000 non-null  int64  \n",
      " 1   CustomerId       15000 non-null  float64\n",
      " 2   Surname          15000 non-null  object \n",
      " 3   CreditScore      15000 non-null  float64\n",
      " 4   Geography        15000 non-null  object \n",
      " 5   Gender           15000 non-null  object \n",
      " 6   Age              15000 non-null  float64\n",
      " 7   Tenure           15000 non-null  float64\n",
      " 8   Balance          15000 non-null  float64\n",
      " 9   NumOfProducts    15000 non-null  float64\n",
      " 10  HasCrCard        15000 non-null  float64\n",
      " 11  IsActiveMember   15000 non-null  float64\n",
      " 12  EstimatedSalary  15000 non-null  float64\n",
      " 13  Exited           15000 non-null  float64\n",
      "dtypes: float64(10), int64(1), object(3)\n",
      "memory usage: 1.6+ MB\n"
     ]
    }
   ],
   "source": [
    "data.info()"
   ]
  },
  {
   "cell_type": "code",
   "execution_count": 32,
   "id": "7f8ebca5-415b-40dc-8943-f27938b41fc8",
   "metadata": {},
   "outputs": [
    {
     "data": {
      "text/html": [
       "<div>\n",
       "<style scoped>\n",
       "    .dataframe tbody tr th:only-of-type {\n",
       "        vertical-align: middle;\n",
       "    }\n",
       "\n",
       "    .dataframe tbody tr th {\n",
       "        vertical-align: top;\n",
       "    }\n",
       "\n",
       "    .dataframe thead th {\n",
       "        text-align: right;\n",
       "    }\n",
       "</style>\n",
       "<table border=\"1\" class=\"dataframe\">\n",
       "  <thead>\n",
       "    <tr style=\"text-align: right;\">\n",
       "      <th></th>\n",
       "      <th>id</th>\n",
       "      <th>CustomerId</th>\n",
       "      <th>Surname</th>\n",
       "      <th>CreditScore</th>\n",
       "      <th>Geography</th>\n",
       "      <th>Gender</th>\n",
       "      <th>Age</th>\n",
       "      <th>Tenure</th>\n",
       "      <th>Balance</th>\n",
       "      <th>NumOfProducts</th>\n",
       "      <th>HasCrCard</th>\n",
       "      <th>IsActiveMember</th>\n",
       "      <th>EstimatedSalary</th>\n",
       "      <th>Exited</th>\n",
       "    </tr>\n",
       "  </thead>\n",
       "  <tbody>\n",
       "    <tr>\n",
       "      <th>0</th>\n",
       "      <td>0</td>\n",
       "      <td>15653521.0</td>\n",
       "      <td>Nkemakonam</td>\n",
       "      <td>667.0</td>\n",
       "      <td>Germany</td>\n",
       "      <td>Male</td>\n",
       "      <td>33.0</td>\n",
       "      <td>3.0</td>\n",
       "      <td>131769.04</td>\n",
       "      <td>1.0</td>\n",
       "      <td>1.0</td>\n",
       "      <td>1.0</td>\n",
       "      <td>162719.69</td>\n",
       "      <td>0.0</td>\n",
       "    </tr>\n",
       "    <tr>\n",
       "      <th>1</th>\n",
       "      <td>1</td>\n",
       "      <td>15699005.0</td>\n",
       "      <td>Chiekwugo</td>\n",
       "      <td>614.0</td>\n",
       "      <td>France</td>\n",
       "      <td>Female</td>\n",
       "      <td>31.0</td>\n",
       "      <td>2.0</td>\n",
       "      <td>110615.47</td>\n",
       "      <td>1.0</td>\n",
       "      <td>1.0</td>\n",
       "      <td>1.0</td>\n",
       "      <td>181879.56</td>\n",
       "      <td>0.0</td>\n",
       "    </tr>\n",
       "    <tr>\n",
       "      <th>2</th>\n",
       "      <td>2</td>\n",
       "      <td>15656912.0</td>\n",
       "      <td>Chiang</td>\n",
       "      <td>683.0</td>\n",
       "      <td>Germany</td>\n",
       "      <td>Female</td>\n",
       "      <td>24.0</td>\n",
       "      <td>6.0</td>\n",
       "      <td>115074.02</td>\n",
       "      <td>2.0</td>\n",
       "      <td>1.0</td>\n",
       "      <td>0.0</td>\n",
       "      <td>109688.82</td>\n",
       "      <td>0.0</td>\n",
       "    </tr>\n",
       "    <tr>\n",
       "      <th>3</th>\n",
       "      <td>3</td>\n",
       "      <td>15700772.0</td>\n",
       "      <td>Ch'ang</td>\n",
       "      <td>678.0</td>\n",
       "      <td>France</td>\n",
       "      <td>Female</td>\n",
       "      <td>38.0</td>\n",
       "      <td>9.0</td>\n",
       "      <td>0.00</td>\n",
       "      <td>1.0</td>\n",
       "      <td>1.0</td>\n",
       "      <td>0.0</td>\n",
       "      <td>122823.84</td>\n",
       "      <td>1.0</td>\n",
       "    </tr>\n",
       "    <tr>\n",
       "      <th>4</th>\n",
       "      <td>4</td>\n",
       "      <td>15583850.0</td>\n",
       "      <td>Chiang</td>\n",
       "      <td>588.0</td>\n",
       "      <td>Spain</td>\n",
       "      <td>Female</td>\n",
       "      <td>39.0</td>\n",
       "      <td>3.0</td>\n",
       "      <td>0.00</td>\n",
       "      <td>2.0</td>\n",
       "      <td>1.0</td>\n",
       "      <td>1.0</td>\n",
       "      <td>136910.18</td>\n",
       "      <td>0.0</td>\n",
       "    </tr>\n",
       "  </tbody>\n",
       "</table>\n",
       "</div>"
      ],
      "text/plain": [
       "   id  CustomerId     Surname  CreditScore Geography  Gender   Age  Tenure  \\\n",
       "0   0  15653521.0  Nkemakonam        667.0   Germany    Male  33.0     3.0   \n",
       "1   1  15699005.0   Chiekwugo        614.0    France  Female  31.0     2.0   \n",
       "2   2  15656912.0      Chiang        683.0   Germany  Female  24.0     6.0   \n",
       "3   3  15700772.0      Ch'ang        678.0    France  Female  38.0     9.0   \n",
       "4   4  15583850.0      Chiang        588.0     Spain  Female  39.0     3.0   \n",
       "\n",
       "     Balance  NumOfProducts  HasCrCard  IsActiveMember  EstimatedSalary  \\\n",
       "0  131769.04            1.0        1.0             1.0        162719.69   \n",
       "1  110615.47            1.0        1.0             1.0        181879.56   \n",
       "2  115074.02            2.0        1.0             0.0        109688.82   \n",
       "3       0.00            1.0        1.0             0.0        122823.84   \n",
       "4       0.00            2.0        1.0             1.0        136910.18   \n",
       "\n",
       "   Exited  \n",
       "0     0.0  \n",
       "1     0.0  \n",
       "2     0.0  \n",
       "3     1.0  \n",
       "4     0.0  "
      ]
     },
     "execution_count": 32,
     "metadata": {},
     "output_type": "execute_result"
    }
   ],
   "source": [
    "data.head()"
   ]
  },
  {
   "cell_type": "code",
   "execution_count": 50,
   "id": "356836ce-bcb2-4999-990e-71bb991ed226",
   "metadata": {},
   "outputs": [
    {
     "data": {
      "text/plain": [
       "<bound method Series.unique of 0        15653521.0\n",
       "1        15699005.0\n",
       "2        15656912.0\n",
       "3        15700772.0\n",
       "4        15583850.0\n",
       "            ...    \n",
       "14995    15793331.0\n",
       "14996    15651336.0\n",
       "14997    15764072.0\n",
       "14998    15792868.0\n",
       "14999    15809872.0\n",
       "Name: CustomerId, Length: 15000, dtype: float64>"
      ]
     },
     "execution_count": 50,
     "metadata": {},
     "output_type": "execute_result"
    }
   ],
   "source": [
    "data.CustomerId.unique"
   ]
  },
  {
   "cell_type": "code",
   "execution_count": 57,
   "id": "7083beba-8007-4d12-a527-62f78e4868f7",
   "metadata": {},
   "outputs": [
    {
     "name": "stdout",
     "output_type": "stream",
     "text": [
      "8641\n"
     ]
    }
   ],
   "source": [
    "print(data['CustomerId'].astype(int).duplicated().sum())"
   ]
  },
  {
   "cell_type": "code",
   "execution_count": 58,
   "id": "d11790c7-eff0-4e61-a410-0cd238b3b5da",
   "metadata": {},
   "outputs": [],
   "source": [
    "test = pd.read_csv('/home/hoang/Рабочий стол/test.csv')"
   ]
  },
  {
   "cell_type": "code",
   "execution_count": 66,
   "id": "0da1d1d5-aeef-4588-936d-a45503dddaed",
   "metadata": {},
   "outputs": [
    {
     "name": "stdout",
     "output_type": "stream",
     "text": [
      "<bound method Series.unique of 0       15646539.0\n",
      "1       15628144.0\n",
      "2       15687953.0\n",
      "3       15585067.0\n",
      "4       15746190.0\n",
      "           ...    \n",
      "9995    15758023.0\n",
      "9996    15698528.0\n",
      "9997    15696900.0\n",
      "9998    15625023.0\n",
      "9999    15571869.0\n",
      "Name: CustomerId, Length: 10000, dtype: float64>\n"
     ]
    }
   ],
   "source": [
    "print(test['CustomerId'].unique)"
   ]
  },
  {
   "cell_type": "code",
   "execution_count": 67,
   "id": "c437deaa-6962-4cef-bdf9-9d9091044a0d",
   "metadata": {},
   "outputs": [],
   "source": [
    "test_clean = test.drop_duplicates(subset='CustomerId')"
   ]
  },
  {
   "cell_type": "code",
   "execution_count": 68,
   "id": "d12fa5d1-dcbf-4ffb-89ea-faf79f71fb0a",
   "metadata": {},
   "outputs": [
    {
     "data": {
      "text/html": [
       "<div>\n",
       "<style scoped>\n",
       "    .dataframe tbody tr th:only-of-type {\n",
       "        vertical-align: middle;\n",
       "    }\n",
       "\n",
       "    .dataframe tbody tr th {\n",
       "        vertical-align: top;\n",
       "    }\n",
       "\n",
       "    .dataframe thead th {\n",
       "        text-align: right;\n",
       "    }\n",
       "</style>\n",
       "<table border=\"1\" class=\"dataframe\">\n",
       "  <thead>\n",
       "    <tr style=\"text-align: right;\">\n",
       "      <th></th>\n",
       "      <th>id</th>\n",
       "      <th>CustomerId</th>\n",
       "      <th>Surname</th>\n",
       "      <th>CreditScore</th>\n",
       "      <th>Geography</th>\n",
       "      <th>Gender</th>\n",
       "      <th>Age</th>\n",
       "      <th>Tenure</th>\n",
       "      <th>Balance</th>\n",
       "      <th>NumOfProducts</th>\n",
       "      <th>HasCrCard</th>\n",
       "      <th>IsActiveMember</th>\n",
       "      <th>EstimatedSalary</th>\n",
       "    </tr>\n",
       "  </thead>\n",
       "  <tbody>\n",
       "    <tr>\n",
       "      <th>0</th>\n",
       "      <td>15000</td>\n",
       "      <td>15646539.0</td>\n",
       "      <td>Onyemauchechukwu</td>\n",
       "      <td>821.0</td>\n",
       "      <td>Spain</td>\n",
       "      <td>Male</td>\n",
       "      <td>32.0</td>\n",
       "      <td>3.0</td>\n",
       "      <td>0.00</td>\n",
       "      <td>1.0</td>\n",
       "      <td>1.0</td>\n",
       "      <td>1.0</td>\n",
       "      <td>120893.85</td>\n",
       "    </tr>\n",
       "    <tr>\n",
       "      <th>1</th>\n",
       "      <td>15001</td>\n",
       "      <td>15628144.0</td>\n",
       "      <td>Chikwado</td>\n",
       "      <td>634.0</td>\n",
       "      <td>France</td>\n",
       "      <td>Male</td>\n",
       "      <td>28.0</td>\n",
       "      <td>1.0</td>\n",
       "      <td>129299.28</td>\n",
       "      <td>1.0</td>\n",
       "      <td>1.0</td>\n",
       "      <td>0.0</td>\n",
       "      <td>179655.85</td>\n",
       "    </tr>\n",
       "    <tr>\n",
       "      <th>2</th>\n",
       "      <td>15002</td>\n",
       "      <td>15687953.0</td>\n",
       "      <td>Ting</td>\n",
       "      <td>713.0</td>\n",
       "      <td>France</td>\n",
       "      <td>Male</td>\n",
       "      <td>42.0</td>\n",
       "      <td>1.0</td>\n",
       "      <td>0.00</td>\n",
       "      <td>2.0</td>\n",
       "      <td>1.0</td>\n",
       "      <td>1.0</td>\n",
       "      <td>80552.12</td>\n",
       "    </tr>\n",
       "    <tr>\n",
       "      <th>3</th>\n",
       "      <td>15003</td>\n",
       "      <td>15585067.0</td>\n",
       "      <td>Achebe</td>\n",
       "      <td>611.0</td>\n",
       "      <td>France</td>\n",
       "      <td>Female</td>\n",
       "      <td>38.0</td>\n",
       "      <td>3.0</td>\n",
       "      <td>0.00</td>\n",
       "      <td>1.0</td>\n",
       "      <td>0.0</td>\n",
       "      <td>1.0</td>\n",
       "      <td>151335.24</td>\n",
       "    </tr>\n",
       "    <tr>\n",
       "      <th>4</th>\n",
       "      <td>15004</td>\n",
       "      <td>15746190.0</td>\n",
       "      <td>Chiazagomekpere</td>\n",
       "      <td>724.0</td>\n",
       "      <td>France</td>\n",
       "      <td>Male</td>\n",
       "      <td>29.0</td>\n",
       "      <td>9.0</td>\n",
       "      <td>0.00</td>\n",
       "      <td>1.0</td>\n",
       "      <td>1.0</td>\n",
       "      <td>1.0</td>\n",
       "      <td>88724.49</td>\n",
       "    </tr>\n",
       "    <tr>\n",
       "      <th>...</th>\n",
       "      <td>...</td>\n",
       "      <td>...</td>\n",
       "      <td>...</td>\n",
       "      <td>...</td>\n",
       "      <td>...</td>\n",
       "      <td>...</td>\n",
       "      <td>...</td>\n",
       "      <td>...</td>\n",
       "      <td>...</td>\n",
       "      <td>...</td>\n",
       "      <td>...</td>\n",
       "      <td>...</td>\n",
       "      <td>...</td>\n",
       "    </tr>\n",
       "    <tr>\n",
       "      <th>9990</th>\n",
       "      <td>24990</td>\n",
       "      <td>15618155.0</td>\n",
       "      <td>Ch'ien</td>\n",
       "      <td>738.0</td>\n",
       "      <td>Spain</td>\n",
       "      <td>Male</td>\n",
       "      <td>37.0</td>\n",
       "      <td>6.0</td>\n",
       "      <td>0.00</td>\n",
       "      <td>2.0</td>\n",
       "      <td>1.0</td>\n",
       "      <td>0.0</td>\n",
       "      <td>139059.05</td>\n",
       "    </tr>\n",
       "    <tr>\n",
       "      <th>9991</th>\n",
       "      <td>24991</td>\n",
       "      <td>15772941.0</td>\n",
       "      <td>Bezrukov</td>\n",
       "      <td>745.0</td>\n",
       "      <td>Spain</td>\n",
       "      <td>Female</td>\n",
       "      <td>34.0</td>\n",
       "      <td>7.0</td>\n",
       "      <td>0.00</td>\n",
       "      <td>2.0</td>\n",
       "      <td>1.0</td>\n",
       "      <td>0.0</td>\n",
       "      <td>180134.88</td>\n",
       "    </tr>\n",
       "    <tr>\n",
       "      <th>9992</th>\n",
       "      <td>24992</td>\n",
       "      <td>15683383.0</td>\n",
       "      <td>Scott</td>\n",
       "      <td>705.0</td>\n",
       "      <td>Spain</td>\n",
       "      <td>Male</td>\n",
       "      <td>28.0</td>\n",
       "      <td>7.0</td>\n",
       "      <td>72535.45</td>\n",
       "      <td>1.0</td>\n",
       "      <td>1.0</td>\n",
       "      <td>1.0</td>\n",
       "      <td>40321.87</td>\n",
       "    </tr>\n",
       "    <tr>\n",
       "      <th>9994</th>\n",
       "      <td>24994</td>\n",
       "      <td>15613168.0</td>\n",
       "      <td>T'ien</td>\n",
       "      <td>593.0</td>\n",
       "      <td>France</td>\n",
       "      <td>Male</td>\n",
       "      <td>27.0</td>\n",
       "      <td>1.0</td>\n",
       "      <td>0.00</td>\n",
       "      <td>2.0</td>\n",
       "      <td>1.0</td>\n",
       "      <td>1.0</td>\n",
       "      <td>120107.10</td>\n",
       "    </tr>\n",
       "    <tr>\n",
       "      <th>9995</th>\n",
       "      <td>24995</td>\n",
       "      <td>15758023.0</td>\n",
       "      <td>Nnaife</td>\n",
       "      <td>686.0</td>\n",
       "      <td>Germany</td>\n",
       "      <td>Male</td>\n",
       "      <td>35.0</td>\n",
       "      <td>5.0</td>\n",
       "      <td>111257.59</td>\n",
       "      <td>2.0</td>\n",
       "      <td>1.0</td>\n",
       "      <td>0.0</td>\n",
       "      <td>103557.85</td>\n",
       "    </tr>\n",
       "  </tbody>\n",
       "</table>\n",
       "<p>5110 rows × 13 columns</p>\n",
       "</div>"
      ],
      "text/plain": [
       "         id  CustomerId           Surname  CreditScore Geography  Gender  \\\n",
       "0     15000  15646539.0  Onyemauchechukwu        821.0     Spain    Male   \n",
       "1     15001  15628144.0          Chikwado        634.0    France    Male   \n",
       "2     15002  15687953.0              Ting        713.0    France    Male   \n",
       "3     15003  15585067.0            Achebe        611.0    France  Female   \n",
       "4     15004  15746190.0   Chiazagomekpere        724.0    France    Male   \n",
       "...     ...         ...               ...          ...       ...     ...   \n",
       "9990  24990  15618155.0            Ch'ien        738.0     Spain    Male   \n",
       "9991  24991  15772941.0          Bezrukov        745.0     Spain  Female   \n",
       "9992  24992  15683383.0             Scott        705.0     Spain    Male   \n",
       "9994  24994  15613168.0             T'ien        593.0    France    Male   \n",
       "9995  24995  15758023.0            Nnaife        686.0   Germany    Male   \n",
       "\n",
       "       Age  Tenure    Balance  NumOfProducts  HasCrCard  IsActiveMember  \\\n",
       "0     32.0     3.0       0.00            1.0        1.0             1.0   \n",
       "1     28.0     1.0  129299.28            1.0        1.0             0.0   \n",
       "2     42.0     1.0       0.00            2.0        1.0             1.0   \n",
       "3     38.0     3.0       0.00            1.0        0.0             1.0   \n",
       "4     29.0     9.0       0.00            1.0        1.0             1.0   \n",
       "...    ...     ...        ...            ...        ...             ...   \n",
       "9990  37.0     6.0       0.00            2.0        1.0             0.0   \n",
       "9991  34.0     7.0       0.00            2.0        1.0             0.0   \n",
       "9992  28.0     7.0   72535.45            1.0        1.0             1.0   \n",
       "9994  27.0     1.0       0.00            2.0        1.0             1.0   \n",
       "9995  35.0     5.0  111257.59            2.0        1.0             0.0   \n",
       "\n",
       "      EstimatedSalary  \n",
       "0           120893.85  \n",
       "1           179655.85  \n",
       "2            80552.12  \n",
       "3           151335.24  \n",
       "4            88724.49  \n",
       "...               ...  \n",
       "9990        139059.05  \n",
       "9991        180134.88  \n",
       "9992         40321.87  \n",
       "9994        120107.10  \n",
       "9995        103557.85  \n",
       "\n",
       "[5110 rows x 13 columns]"
      ]
     },
     "execution_count": 68,
     "metadata": {},
     "output_type": "execute_result"
    }
   ],
   "source": [
    "test_clean"
   ]
  },
  {
   "cell_type": "code",
   "execution_count": 70,
   "id": "65f0cbf1-d551-4e2d-a568-a99cfe3458fa",
   "metadata": {},
   "outputs": [],
   "source": [
    "test_clean.to_csv('~/test_clean.csv', index=False)"
   ]
  },
  {
   "cell_type": "code",
   "execution_count": null,
   "id": "ea7dcad3-4af4-4400-a13e-1b60270f5b91",
   "metadata": {},
   "outputs": [],
   "source": []
  }
 ],
 "metadata": {
  "kernelspec": {
   "display_name": "Python 3 (ipykernel)",
   "language": "python",
   "name": "python3"
  },
  "language_info": {
   "codemirror_mode": {
    "name": "ipython",
    "version": 3
   },
   "file_extension": ".py",
   "mimetype": "text/x-python",
   "name": "python",
   "nbconvert_exporter": "python",
   "pygments_lexer": "ipython3",
   "version": "3.10.12"
  }
 },
 "nbformat": 4,
 "nbformat_minor": 5
}
